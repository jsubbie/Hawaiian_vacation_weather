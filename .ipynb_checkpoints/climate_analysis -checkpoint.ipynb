{
 "cells": [
  {
   "cell_type": "code",
   "execution_count": 1,
   "metadata": {
    "collapsed": true
   },
   "outputs": [],
   "source": [
    "# import standard depend\n",
    "import os \n",
    "import csv, sqlite3\n",
    "import pandas as pd\n",
    "\n",
    "# import sqlalchemy depend \n",
    "import sqlalchemy\n",
    "from sqlalchemy.ext.automap import automap_base\n",
    "from sqlalchemy.orm import Session\n",
    "from sqlalchemy import create_engine, inspect, func\n",
    "\n",
    "# PyMySQL \n",
    "import pymysql\n",
    "pymysql.install_as_MySQLdb()\n",
    "\n",
    "# depend for charts \n",
    "\n",
    "import matplotlib.pyplot as plt\n",
    "import numpy as np"
   ]
  },
  {
   "cell_type": "code",
   "execution_count": 2,
   "metadata": {
    "collapsed": true
   },
   "outputs": [],
   "source": [
    "# Create the connection engine\n",
    "engine = create_engine(\"sqlite:///hawaii.sqlite\")"
   ]
  },
  {
   "cell_type": "code",
   "execution_count": 3,
   "metadata": {
    "collapsed": true
   },
   "outputs": [],
   "source": [
    "# Create the inspector and connect it to the engine\n",
    "inspector = inspect(engine)"
   ]
  },
  {
   "cell_type": "code",
   "execution_count": 4,
   "metadata": {},
   "outputs": [
    {
     "data": {
      "text/plain": [
       "['measurements', 'stations']"
      ]
     },
     "execution_count": 4,
     "metadata": {},
     "output_type": "execute_result"
    }
   ],
   "source": [
    "inspector.get_table_names()"
   ]
  },
  {
   "cell_type": "code",
   "execution_count": 5,
   "metadata": {},
   "outputs": [
    {
     "data": {
      "text/html": [
       "<div>\n",
       "<style>\n",
       "    .dataframe thead tr:only-child th {\n",
       "        text-align: right;\n",
       "    }\n",
       "\n",
       "    .dataframe thead th {\n",
       "        text-align: left;\n",
       "    }\n",
       "\n",
       "    .dataframe tbody tr th {\n",
       "        vertical-align: top;\n",
       "    }\n",
       "</style>\n",
       "<table border=\"1\" class=\"dataframe\">\n",
       "  <thead>\n",
       "    <tr style=\"text-align: right;\">\n",
       "      <th></th>\n",
       "      <th>id</th>\n",
       "      <th>station</th>\n",
       "      <th>date</th>\n",
       "      <th>prcp</th>\n",
       "      <th>tobs</th>\n",
       "    </tr>\n",
       "  </thead>\n",
       "  <tbody>\n",
       "    <tr>\n",
       "      <th>0</th>\n",
       "      <td>0</td>\n",
       "      <td>USC00519397</td>\n",
       "      <td>2010-01-01</td>\n",
       "      <td>0.08</td>\n",
       "      <td>65.0</td>\n",
       "    </tr>\n",
       "    <tr>\n",
       "      <th>1</th>\n",
       "      <td>1</td>\n",
       "      <td>USC00519397</td>\n",
       "      <td>2010-01-02</td>\n",
       "      <td>0.00</td>\n",
       "      <td>63.0</td>\n",
       "    </tr>\n",
       "    <tr>\n",
       "      <th>2</th>\n",
       "      <td>2</td>\n",
       "      <td>USC00519397</td>\n",
       "      <td>2010-01-03</td>\n",
       "      <td>0.00</td>\n",
       "      <td>74.0</td>\n",
       "    </tr>\n",
       "    <tr>\n",
       "      <th>3</th>\n",
       "      <td>3</td>\n",
       "      <td>USC00519397</td>\n",
       "      <td>2010-01-04</td>\n",
       "      <td>0.00</td>\n",
       "      <td>76.0</td>\n",
       "    </tr>\n",
       "    <tr>\n",
       "      <th>4</th>\n",
       "      <td>5</td>\n",
       "      <td>USC00519397</td>\n",
       "      <td>2010-01-07</td>\n",
       "      <td>0.06</td>\n",
       "      <td>70.0</td>\n",
       "    </tr>\n",
       "  </tbody>\n",
       "</table>\n",
       "</div>"
      ],
      "text/plain": [
       "   id      station        date  prcp  tobs\n",
       "0   0  USC00519397  2010-01-01  0.08  65.0\n",
       "1   1  USC00519397  2010-01-02  0.00  63.0\n",
       "2   2  USC00519397  2010-01-03  0.00  74.0\n",
       "3   3  USC00519397  2010-01-04  0.00  76.0\n",
       "4   5  USC00519397  2010-01-07  0.06  70.0"
      ]
     },
     "execution_count": 5,
     "metadata": {},
     "output_type": "execute_result"
    }
   ],
   "source": [
    "# Query All Records in the the Database\n",
    "engine = create_engine(\"sqlite:///hawaii.sqlite\", echo=False)\n",
    "conn = engine.connect()\n",
    "measurements = pd.read_sql(\"SELECT * FROM measurements\", conn)\n",
    "measurements.head()"
   ]
  },
  {
   "cell_type": "code",
   "execution_count": 6,
   "metadata": {},
   "outputs": [
    {
     "data": {
      "text/html": [
       "<div>\n",
       "<style>\n",
       "    .dataframe thead tr:only-child th {\n",
       "        text-align: right;\n",
       "    }\n",
       "\n",
       "    .dataframe thead th {\n",
       "        text-align: left;\n",
       "    }\n",
       "\n",
       "    .dataframe tbody tr th {\n",
       "        vertical-align: top;\n",
       "    }\n",
       "</style>\n",
       "<table border=\"1\" class=\"dataframe\">\n",
       "  <thead>\n",
       "    <tr style=\"text-align: right;\">\n",
       "      <th></th>\n",
       "      <th>station</th>\n",
       "      <th>date</th>\n",
       "      <th>prcp</th>\n",
       "      <th>tobs</th>\n",
       "    </tr>\n",
       "    <tr>\n",
       "      <th>id</th>\n",
       "      <th></th>\n",
       "      <th></th>\n",
       "      <th></th>\n",
       "      <th></th>\n",
       "    </tr>\n",
       "  </thead>\n",
       "  <tbody>\n",
       "    <tr>\n",
       "      <th>0</th>\n",
       "      <td>USC00519397</td>\n",
       "      <td>2010-01-01</td>\n",
       "      <td>0.08</td>\n",
       "      <td>65.0</td>\n",
       "    </tr>\n",
       "    <tr>\n",
       "      <th>1</th>\n",
       "      <td>USC00519397</td>\n",
       "      <td>2010-01-02</td>\n",
       "      <td>0.00</td>\n",
       "      <td>63.0</td>\n",
       "    </tr>\n",
       "    <tr>\n",
       "      <th>2</th>\n",
       "      <td>USC00519397</td>\n",
       "      <td>2010-01-03</td>\n",
       "      <td>0.00</td>\n",
       "      <td>74.0</td>\n",
       "    </tr>\n",
       "    <tr>\n",
       "      <th>3</th>\n",
       "      <td>USC00519397</td>\n",
       "      <td>2010-01-04</td>\n",
       "      <td>0.00</td>\n",
       "      <td>76.0</td>\n",
       "    </tr>\n",
       "    <tr>\n",
       "      <th>5</th>\n",
       "      <td>USC00519397</td>\n",
       "      <td>2010-01-07</td>\n",
       "      <td>0.06</td>\n",
       "      <td>70.0</td>\n",
       "    </tr>\n",
       "  </tbody>\n",
       "</table>\n",
       "</div>"
      ],
      "text/plain": [
       "        station        date  prcp  tobs\n",
       "id                                     \n",
       "0   USC00519397  2010-01-01  0.08  65.0\n",
       "1   USC00519397  2010-01-02  0.00  63.0\n",
       "2   USC00519397  2010-01-03  0.00  74.0\n",
       "3   USC00519397  2010-01-04  0.00  76.0\n",
       "5   USC00519397  2010-01-07  0.06  70.0"
      ]
     },
     "execution_count": 6,
     "metadata": {},
     "output_type": "execute_result"
    }
   ],
   "source": [
    "measurements_df = measurements.set_index(\"id\")\n",
    "measurements_df.head()"
   ]
  },
  {
   "cell_type": "code",
   "execution_count": 7,
   "metadata": {
    "collapsed": true
   },
   "outputs": [],
   "source": [
    "# Reflect Database into ORM class\n",
    "Base = automap_base()\n",
    "Base.prepare(engine, reflect=True)\n",
    "measurements=Base.classes.measurements\n",
    "stations=Base.classes.stations"
   ]
  },
  {
   "cell_type": "code",
   "execution_count": 8,
   "metadata": {
    "collapsed": true
   },
   "outputs": [],
   "source": [
    "# Start a session to query the database\n",
    "\n",
    "session = Session(engine)"
   ]
  },
  {
   "cell_type": "code",
   "execution_count": 9,
   "metadata": {
    "collapsed": true
   },
   "outputs": [],
   "source": [
    "# Query Emojis for `date`, and `prcp` and save the query into results\n",
    "\n",
    "results = session.query(measurements.date, func.sum(measurements.prcp)).group_by(measurements.date).\\\n",
    "    order_by(measurements.id.desc()).limit(365).all()"
   ]
  },
  {
   "cell_type": "code",
   "execution_count": 10,
   "metadata": {},
   "outputs": [
    {
     "data": {
      "text/html": [
       "<div>\n",
       "<style>\n",
       "    .dataframe thead tr:only-child th {\n",
       "        text-align: right;\n",
       "    }\n",
       "\n",
       "    .dataframe thead th {\n",
       "        text-align: left;\n",
       "    }\n",
       "\n",
       "    .dataframe tbody tr th {\n",
       "        vertical-align: top;\n",
       "    }\n",
       "</style>\n",
       "<table border=\"1\" class=\"dataframe\">\n",
       "  <thead>\n",
       "    <tr style=\"text-align: right;\">\n",
       "      <th></th>\n",
       "      <th>Date</th>\n",
       "      <th>Precipitation</th>\n",
       "    </tr>\n",
       "  </thead>\n",
       "  <tbody>\n",
       "    <tr>\n",
       "      <th>364</th>\n",
       "      <td>2016-07-10</td>\n",
       "      <td>2.43</td>\n",
       "    </tr>\n",
       "    <tr>\n",
       "      <th>363</th>\n",
       "      <td>2016-07-11</td>\n",
       "      <td>0.43</td>\n",
       "    </tr>\n",
       "    <tr>\n",
       "      <th>362</th>\n",
       "      <td>2016-07-12</td>\n",
       "      <td>0.11</td>\n",
       "    </tr>\n",
       "    <tr>\n",
       "      <th>361</th>\n",
       "      <td>2016-07-13</td>\n",
       "      <td>0.32</td>\n",
       "    </tr>\n",
       "    <tr>\n",
       "      <th>360</th>\n",
       "      <td>2016-07-14</td>\n",
       "      <td>2.76</td>\n",
       "    </tr>\n",
       "  </tbody>\n",
       "</table>\n",
       "</div>"
      ],
      "text/plain": [
       "           Date  Precipitation\n",
       "364  2016-07-10           2.43\n",
       "363  2016-07-11           0.43\n",
       "362  2016-07-12           0.11\n",
       "361  2016-07-13           0.32\n",
       "360  2016-07-14           2.76"
      ]
     },
     "execution_count": 10,
     "metadata": {},
     "output_type": "execute_result"
    }
   ],
   "source": [
    "# Unpack the 'date' and `prcp` from results and save into separate lists\n",
    "prcp = pd.DataFrame(results, columns=['Date', 'Precipitation'])\n",
    "prcp = prcp.sort_index(ascending=False)\n",
    "prcp.head()\n"
   ]
  },
  {
   "cell_type": "code",
   "execution_count": 11,
   "metadata": {
    "collapsed": true
   },
   "outputs": [],
   "source": [
    "# set ticks for dates using for loop \n",
    "\n",
    "ticks = np.arange(0, 365, 50)\n",
    "ticks = ticks.tolist()\n",
    "\n",
    "date_tick = []\n",
    "for x in ticks:\n",
    "    date = prcp[\"Date\"][x]\n",
    "    date_tick.append(date)    "
   ]
  },
  {
   "cell_type": "code",
   "execution_count": 12,
   "metadata": {},
   "outputs": [
    {
     "data": {
      "image/png": "[encoded data removed]",
      "text/plain": [
       "<matplotlib.figure.Figure at 0x11bad4278>"
      ]
     },
     "metadata": {},
     "output_type": "display_data"
    }
   ],
   "source": [
    "# plot, show, and save graph \n",
    "\n",
    "prcp.plot(kind=\"bar\", figsize=(20,10))\n",
    "plt.xticks(ticks, date_tick, rotation=15)\n",
    "plt.title(\"Precipitation by Day\")\n",
    "plt.ylabel(\"Precipitation (Inches)\")\n",
    "plt.savefig(\"Precipitation by Day\")\n",
    "plt.show()"
   ]
  },
  {
   "cell_type": "code",
   "execution_count": 13,
   "metadata": {},
   "outputs": [
    {
     "data": {
      "text/plain": [
       "[(9)]"
      ]
     },
     "execution_count": 13,
     "metadata": {},
     "output_type": "execute_result"
    }
   ],
   "source": [
    "# Station Count Query \n",
    "station_count = session.query(func.count(stations.id)).all()\n",
    "station_count"
   ]
  },
  {
   "cell_type": "code",
   "execution_count": 14,
   "metadata": {},
   "outputs": [
    {
     "data": {
      "text/plain": [
       "[('USC00519281', 'WAIHEE 837.5, HI US', 0.06, 79.0, 2772),\n",
       " ('USC00513117', 'KANEOHE 838.1, HI US', 0.0, 77.0, 2696),\n",
       " ('USC00519397', 'WAIKIKI 717.2, HI US', 0.0, 81.0, 2685),\n",
       " ('USC00519523', 'WAIMANALO EXPERIMENTAL FARM, HI US', 0.08, 82.0, 2572),\n",
       " ('USC00516128', 'MANOA LYON ARBO 785.2, HI US', 0.45, 76.0, 2484),\n",
       " ('USC00514830', 'KUALOA RANCH HEADQUARTERS 886.9, HI US', 0.0, 82.0, 1937),\n",
       " ('USC00511918', 'HONOLULU OBSERVATORY 702.2, HI US', 0.0, 64.0, 1932),\n",
       " ('USC00517948', 'PEARL CITY, HI US', 0.01, 80.0, 683),\n",
       " ('USC00518838', 'UPPER WAHIAWA 874.3, HI US', 0.0, 74.0, 342)]"
      ]
     },
     "execution_count": 14,
     "metadata": {},
     "output_type": "execute_result"
    }
   ],
   "source": [
    "# Query for \"Most Active Stations\" \n",
    "\n",
    "station_activity = session.query(stations.station, \n",
    "                                 stations.name, \n",
    "                                 measurements.prcp, \n",
    "                                 measurements.tobs, \n",
    "                                 func.count(measurements.date)). \\\n",
    "    filter (stations.station == measurements.station).\\\n",
    "    group_by(stations.name).order_by(func.count(measurements.date).desc()).all()\n",
    "\n",
    "station_activity                            "
   ]
  },
  {
   "cell_type": "code",
   "execution_count": 15,
   "metadata": {
    "collapsed": true
   },
   "outputs": [],
   "source": [
    "highest = \"USC00519281\"\n",
    "\n",
    "high_tobs = session.query(measurements.date, measurements.tobs).order_by(measurements.id.desc()). \\\n",
    "    filter(measurements.station == highest).limit(365).all()\n",
    "# high_tobs"
   ]
  },
  {
   "cell_type": "code",
   "execution_count": 16,
   "metadata": {},
   "outputs": [
    {
     "data": {
      "text/html": [
       "<div>\n",
       "<style>\n",
       "    .dataframe thead tr:only-child th {\n",
       "        text-align: right;\n",
       "    }\n",
       "\n",
       "    .dataframe thead th {\n",
       "        text-align: left;\n",
       "    }\n",
       "\n",
       "    .dataframe tbody tr th {\n",
       "        vertical-align: top;\n",
       "    }\n",
       "</style>\n",
       "<table border=\"1\" class=\"dataframe\">\n",
       "  <thead>\n",
       "    <tr style=\"text-align: right;\">\n",
       "      <th></th>\n",
       "      <th>Date</th>\n",
       "      <th>Temp Observation</th>\n",
       "    </tr>\n",
       "  </thead>\n",
       "  <tbody>\n",
       "    <tr>\n",
       "      <th>0</th>\n",
       "      <td>2017-08-18</td>\n",
       "      <td>79.0</td>\n",
       "    </tr>\n",
       "    <tr>\n",
       "      <th>1</th>\n",
       "      <td>2017-08-17</td>\n",
       "      <td>76.0</td>\n",
       "    </tr>\n",
       "    <tr>\n",
       "      <th>2</th>\n",
       "      <td>2017-08-16</td>\n",
       "      <td>76.0</td>\n",
       "    </tr>\n",
       "    <tr>\n",
       "      <th>3</th>\n",
       "      <td>2017-08-15</td>\n",
       "      <td>77.0</td>\n",
       "    </tr>\n",
       "    <tr>\n",
       "      <th>4</th>\n",
       "      <td>2017-08-14</td>\n",
       "      <td>77.0</td>\n",
       "    </tr>\n",
       "  </tbody>\n",
       "</table>\n",
       "</div>"
      ],
      "text/plain": [
       "         Date  Temp Observation\n",
       "0  2017-08-18              79.0\n",
       "1  2017-08-17              76.0\n",
       "2  2017-08-16              76.0\n",
       "3  2017-08-15              77.0\n",
       "4  2017-08-14              77.0"
      ]
     },
     "execution_count": 16,
     "metadata": {},
     "output_type": "execute_result"
    }
   ],
   "source": [
    "# Convert query into a DF\n",
    "tobs = pd.DataFrame(high_tobs, columns=[\"Date\", \"Temp Observation\"])\n",
    "tobs.head()"
   ]
  },
  {
   "cell_type": "code",
   "execution_count": 17,
   "metadata": {},
   "outputs": [
    {
     "data": {
      "image/png": "[encoded data removed]",
      "text/plain": [
       "<matplotlib.figure.Figure at 0x11ff1c9b0>"
      ]
     },
     "metadata": {},
     "output_type": "display_data"
    }
   ],
   "source": [
    "plt.figure(figsize=(20,10))\n",
    "plt.hist(tobs[\"Temp Observation\"], bins=12)\n",
    "plt.grid(color='grey', linestyle='-', linewidth=1, alpha=.2)\n",
    "plt.ylabel(\"Frequency\")\n",
    "plt.xlabel(\"Temperature (F)\")\n",
    "plt.title(\"Frequency of Temps over 12 Month Period\")\n",
    "plt.savefig(\"12 Month Temp History\")\n",
    "plt.show()"
   ]
  },
  {
   "cell_type": "code",
   "execution_count": 2,
   "metadata": {},
   "outputs": [],
   "source": [
    "# The Following section of code is located in a separate python file in the repo \n",
    "#\n",
    "# #################################################\n",
    "\n",
    "# #Start Flask application\n",
    "\n",
    "# from flask import Flask, jsonify\n",
    "# app = Flask(__name__)\n",
    "\n",
    "# #################################################\n",
    "# # Flask Routes\n",
    "# #################################################\n",
    "\n",
    "# @app.route(\"/\")\n",
    "# def welcome():\n",
    "#     \"Hawaii Data.\"\n",
    "#     return (\n",
    "#         f\"Available Links:<br/>\"\n",
    "#         f\"/api/v1.0/precipitation<br/>\"\n",
    "#         f\"/api/v1.0/stations\"\n",
    "#         f\"/api/v1.0/tobs</br>\"\n",
    "#         f\"/api/v1.0/'start date as YYYY-MM-DD'</br>\"\n",
    "#         f\"/api/v1.0/'start date as YYYY-MM-DD'/'end date as YYYY-MM-DD'</br>\"\n",
    "#     )\n",
    "\n",
    "# if __name__ == '__main__':\n",
    "#     app.run(debug=True)\n",
    "\n"
   ]
  },
  {
   "cell_type": "code",
   "execution_count": 1,
   "metadata": {},
   "outputs": [],
   "source": [
    "# #Start Flask application\n",
    "# from flask import Flask, jsonify\n",
    "# app = Flask(__name__)\n",
    "\n",
    "# # API landing page \n",
    "\n",
    "# @app.route(\"/\")\n",
    "# def links():\n",
    "#     return (\n",
    "#         \"Welcome. Below are links to Hawaii Weather Data!</br>\"\n",
    "#         \"/api.v1.0/precipitation</br>\"\n",
    "#         \"/api/v1.0/stations</br>\"\n",
    "#         \"/api/v1.0/tobs</br>\"\n",
    "#         \"/api/v1.0/'start date as YYYY-MM-DD'</br>\"\n",
    "#         \"/api/v1.0/'start date as YYYY-MM-DD'/'end date as YYYY-MM-DD'</br>\"\n",
    "#     )\n",
    "\n",
    "# if __name__ == '__main__':\n",
    "#     app.run(debug=True)\n"
   ]
  },
  {
   "cell_type": "code",
   "execution_count": 3,
   "metadata": {},
   "outputs": [],
   "source": [
    "\n",
    "# # prior year's prcp\n",
    "\n",
    "# @app.route(\"/api.v1.0/precipitation\")\n",
    "# def precip():\n",
    "    \n",
    "#     query = session.query(measurements.date, func.sum(measurements.prcp).label(\"prcp\")). \\\n",
    "#     group_by(measurements.date).order_by(measurements.id.desc()).limit(365).all()\n",
    "\n",
    "#     prcp = []\n",
    "#     for rain_drop in query:\n",
    "#         drop_top = {}\n",
    "#         drop_top[\"Date\"] = rain_drop.date\n",
    "#         drop_top[\"Total Precip\"] = rain_drop.prcp\n",
    "#         prcp.append(drop_top)\n",
    "\n",
    "#     return jsonify(precipitation)\n",
    "\n",
    "# if __name__ == '__main__':\n",
    "#     app.run(debug=True)\n",
    "    \n"
   ]
  },
  {
   "cell_type": "code",
   "execution_count": null,
   "metadata": {
    "collapsed": true
   },
   "outputs": [],
   "source": [
    "# # station info \n",
    "\n",
    "# @app.route(\"/api/v1.0/stations\")\n",
    "# def stations():\n",
    "\n",
    "#     stat = session.query(stations).all()\n",
    "    \n",
    "#     stations_info = []\n",
    "#     for looping in stat:\n",
    "#         blank = {}\n",
    "#         blank[\"Station\"] = looping.station\n",
    "#         blank[\"Name\"] = looping.name\n",
    "#         blank[\"Latitude\"] = looping.latitude\n",
    "#         blank[\"Longitude\"] = looping.longitude\n",
    "#         blank[\"Elevation\"] = looping.elevation\n",
    "#         station_info.append(blank)\n",
    "    \n",
    "#     return jsonify(station_info)\n",
    "\n",
    "# if __name__ == '__main__':\n",
    "#     app.run(debug=True)\n"
   ]
  },
  {
   "cell_type": "code",
   "execution_count": null,
   "metadata": {
    "collapsed": true
   },
   "outputs": [],
   "source": [
    "# # tob info\n",
    "\n",
    "# @app.route(\"/api/v1.0/tobs\")\n",
    "# def tobs():\n",
    "    \n",
    "#     query = session.query(measurements.station, measurements.date, measurements.tobs).filter(measurements.date >= \"2016-01-01\"). \\\n",
    "#         filter(measurements.date < \"2017-01-01\").all()\n",
    "   \n",
    "#     heat_index = []\n",
    "#     for hot in query:\n",
    "#         heat = {}\n",
    "#         heat[\"Station ID\"] = hot.station\n",
    "#         heat[\"Date\"] = hot.date\n",
    "#         heat[\"Temp Observed\"] = hot.tobs\n",
    "#         Bring.append(heat_index)\n",
    "    \n",
    "#     return jsonify(Bring)\n",
    "\n",
    "# if __name__ == '__main__':\n",
    "#     app.run(debug=True)"
   ]
  },
  {
   "cell_type": "code",
   "execution_count": null,
   "metadata": {
    "collapsed": true
   },
   "outputs": [],
   "source": [
    "# # temp from start date \n",
    "\n",
    "# @app.route(\"/api/v1.0/<start>\")\n",
    "# def temps(start='2016-01-01'):\n",
    "    \n",
    "#     min_temp = session.query(func.min(measurements.tobs)).filter(measurements.date >= start).all()\n",
    "#     max_temp = session.query(func.max(measurements.tobs)).filter(measurements.date >= start).all()\n",
    "#     avg_temp = session.query(func.avg(measurements.tobs)).filter(measurements.date >= start).all()\n",
    "    \n",
    "#     min_temp_str = str(min_temp[0][0])\n",
    "#     max_temp_str = str(max_temp[0][0])\n",
    "#     avg_temp_str = str(avg_temp[0][0])\n",
    "    \n",
    "#     Temps = [{\n",
    "#             'Min Temp': min_temp_str,\n",
    "#             'Max Temp': max_temp_str,\n",
    "#             'Average Temp': avg_temp_str\n",
    "#     }]\n",
    "    \n",
    "#     return jsonify(Temps)\n",
    "\n",
    "# if __name__ == '__main__':\n",
    "#     app.run(debug=True)\n"
   ]
  },
  {
   "cell_type": "code",
   "execution_count": null,
   "metadata": {
    "collapsed": true
   },
   "outputs": [],
   "source": [
    "# # temps from date range \n",
    "\n",
    "# @app.route(\"/api/v1.0/<start>/<end>\")\n",
    "# def temps(start='', end=''):\n",
    "    \n",
    "#     min_temp = session.query(func.min(measurements.tobs)).filter(measurements.date >= start).\\\n",
    "#             filter(Measurement.date <= end).all()\n",
    "#     max_temp = session.query(func.max(measurements.tobs)).filter(measurements.date >= start).\\\n",
    "#             filter(Measurement.date <= end).all()\n",
    "#     avg_temp = session.query(func.avg(measurements.tobs)).filter(measurements.date >= start).\\\n",
    "#             filter(measurements.date <= end).all()\n",
    "    \n",
    "#     min_temp_str = str(min_temp[0][0])\n",
    "#     max_temp_str = str(max_temp[0][0])\n",
    "#     avg_temp_str = str(avg_temp[0][0])\n",
    "    \n",
    "#     temps = [{\n",
    "#             'Min Temp': min_temp_str,\n",
    "#             'Max Temp': max_temp_str,\n",
    "#             'Average Temp': avg_temp_str\n",
    "#     }]\n",
    "    \n",
    "#     return jsonify(Temps)\n",
    "\n",
    "# if __name__ == '__main__':\n",
    "#     app.run(debug=True)    "
   ]
  }
 ],
 "metadata": {
  "kernelspec": {
   "display_name": "Python 3",
   "language": "python",
   "name": "python3"
  },
  "language_info": {
   "codemirror_mode": {
    "name": "ipython",
    "version": 3
   },
   "file_extension": ".py",
   "mimetype": "text/x-python",
   "name": "python",
   "nbconvert_exporter": "python",
   "pygments_lexer": "ipython3",
   "version": "3.6.4"
  }
 },
 "nbformat": 4,
 "nbformat_minor": 2
}
