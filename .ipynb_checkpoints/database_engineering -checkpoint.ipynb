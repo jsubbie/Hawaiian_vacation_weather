{
 "cells": [
  {
   "cell_type": "code",
   "execution_count": 33,
   "metadata": {
    "collapsed": true
   },
   "outputs": [],
   "source": [
    "# import basic dependencies\n",
    "import os \n",
    "import csv, sqlite3\n",
    "import pandas as pd \n",
    "\n",
    "# import sqlalchemy dependancies \n",
    "import sqlalchemy\n",
    "from sqlalchemy.ext.automap import automap_base\n",
    "from sqlalchemy.orm import Session\n",
    "from sqlalchemy import create_engine, inspect\n",
    "\n",
    "# PyMySQL \n",
    "import pymysql\n",
    "pymysql.install_as_MySQLdb()\n"
   ]
  },
  {
   "cell_type": "code",
   "execution_count": 34,
   "metadata": {
    "collapsed": true
   },
   "outputs": [],
   "source": [
    "# open and read csvs \n",
    "measurements_clean = \"Resources/measurements_clean.csv\"\n",
    "stations_clean = \"Resources/stations_clean.csv\"\n",
    "\n",
    "measurements_df = pd.read_csv(measurements_clean)\n",
    "stations_df = pd.read_csv(stations_clean)"
   ]
  },
  {
   "cell_type": "code",
   "execution_count": 35,
   "metadata": {
    "collapsed": true
   },
   "outputs": [],
   "source": [
    "# print(measurements_clean.head())"
   ]
  },
  {
   "cell_type": "code",
   "execution_count": 36,
   "metadata": {
    "collapsed": true
   },
   "outputs": [],
   "source": [
    "# print(stations_clean.head())"
   ]
  },
  {
   "cell_type": "code",
   "execution_count": 37,
   "metadata": {},
   "outputs": [
    {
     "name": "stdout",
     "output_type": "stream",
     "text": [
      "   id      station        date  prcp  tobs\n",
      "0   0  USC00519397  2010-01-01  0.08    65\n",
      "1   1  USC00519397  2010-01-02  0.00    63\n",
      "2   2  USC00519397  2010-01-03  0.00    74\n",
      "3   3  USC00519397  2010-01-04  0.00    76\n",
      "4   5  USC00519397  2010-01-07  0.06    70\n",
      "   id      station                                    name  latitude  \\\n",
      "0   0  USC00519397                    WAIKIKI 717.2, HI US   21.2716   \n",
      "1   1  USC00513117                    KANEOHE 838.1, HI US   21.4234   \n",
      "2   2  USC00514830  KUALOA RANCH HEADQUARTERS 886.9, HI US   21.5213   \n",
      "3   3  USC00517948                       PEARL CITY, HI US   21.3934   \n",
      "4   4  USC00518838              UPPER WAHIAWA 874.3, HI US   21.4992   \n",
      "\n",
      "   longitude  elevation  \n",
      "0  -157.8168        3.0  \n",
      "1  -157.8015       14.6  \n",
      "2  -157.8374        7.0  \n",
      "3  -157.9751       11.9  \n",
      "4  -158.0111      306.6  \n"
     ]
    }
   ],
   "source": [
    "# rename index column \n",
    "\n",
    "measurements_df = measurements_df.rename(columns={'Unnamed: 0': 'id'})\n",
    "stations_df = stations_df.rename(columns={'Unnamed: 0': 'id'})\n",
    "\n",
    "print(measurements_df.head())\n",
    "print(stations_df.head())"
   ]
  },
  {
   "cell_type": "code",
   "execution_count": 38,
   "metadata": {
    "collapsed": true
   },
   "outputs": [],
   "source": [
    "# print(measurements.head())"
   ]
  },
  {
   "cell_type": "code",
   "execution_count": 39,
   "metadata": {
    "collapsed": true
   },
   "outputs": [],
   "source": [
    "# print(stations.head())"
   ]
  },
  {
   "cell_type": "code",
   "execution_count": 40,
   "metadata": {
    "collapsed": true
   },
   "outputs": [],
   "source": [
    "# create sqlite db and connect to engine\n",
    "engine = create_engine(\"sqlite:///hawaii.sqlite\")\n",
    "conn = engine.connect()"
   ]
  },
  {
   "cell_type": "code",
   "execution_count": 41,
   "metadata": {
    "collapsed": true
   },
   "outputs": [],
   "source": [
    "# import and define delarative base\n",
    "from sqlalchemy.ext.declarative import declarative_base\n",
    "Base = declarative_base()\n",
    "from sqlalchemy import Column, Integer, String, Float"
   ]
  },
  {
   "cell_type": "code",
   "execution_count": 42,
   "metadata": {
    "collapsed": true
   },
   "outputs": [],
   "source": [
    "# create measurements class \n",
    "class measurements(Base): \n",
    "    __tablename__ = \"measurements\"\n",
    "    id = Column(Integer, primary_key=True)\n",
    "    station = Column(String)\n",
    "    date = Column(String) \n",
    "    prcp = Column(Float) \n",
    "    tobs = Column(Float) "
   ]
  },
  {
   "cell_type": "code",
   "execution_count": 43,
   "metadata": {
    "collapsed": true
   },
   "outputs": [],
   "source": [
    "# create stations class \n",
    "class stations (Base): \n",
    "    __tablename__ = \"stations\"\n",
    "    id = Column(Integer, primary_key=True)\n",
    "    station = Column(String)\n",
    "    name = Column(String) \n",
    "    latitude = Column(Float) \n",
    "    longitude = Column(Float) \n",
    "    elevation = Column(Float) \n",
    "    "
   ]
  },
  {
   "cell_type": "code",
   "execution_count": 44,
   "metadata": {
    "collapsed": true
   },
   "outputs": [],
   "source": [
    "# create tables in sqlite db \n",
    "Base.metadata.create_all(conn)"
   ]
  },
  {
   "cell_type": "code",
   "execution_count": 45,
   "metadata": {
    "collapsed": true
   },
   "outputs": [],
   "source": [
    "# populate the db and commit changes \n",
    "\n",
    "measurements_df.to_sql(\"measurements\", conn, if_exists=\"append\", index=False)\n",
    "stations_df.to_sql(\"stations\", conn, if_exists=\"append\", index=False)\n",
    "\n",
    "Base.metadata.create_all(conn)"
   ]
  },
  {
   "cell_type": "code",
   "execution_count": null,
   "metadata": {
    "collapsed": true
   },
   "outputs": [],
   "source": []
  },
  {
   "cell_type": "code",
   "execution_count": null,
   "metadata": {
    "collapsed": true
   },
   "outputs": [],
   "source": []
  }
 ],
 "metadata": {
  "kernelspec": {
   "display_name": "Python 3",
   "language": "python",
   "name": "python3"
  },
  "language_info": {
   "codemirror_mode": {
    "name": "ipython",
    "version": 3
   },
   "file_extension": ".py",
   "mimetype": "text/x-python",
   "name": "python",
   "nbconvert_exporter": "python",
   "pygments_lexer": "ipython3",
   "version": "3.6.4"
  }
 },
 "nbformat": 4,
 "nbformat_minor": 2
}
